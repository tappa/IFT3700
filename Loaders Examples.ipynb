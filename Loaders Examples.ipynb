{
 "cells": [
  {
   "cell_type": "code",
   "execution_count": 1,
   "metadata": {},
   "outputs": [],
   "source": [
    "from datetime import datetime\n",
    "from loaders import Mnist, Adult, NCEI\n",
    "mnist = Mnist()\n",
    "adult = Adult()\n",
    "ncei = NCEI('user', 'password')"
   ]
  },
  {
   "cell_type": "markdown",
   "metadata": {},
   "source": [
    "## Mnist"
   ]
  },
  {
   "cell_type": "code",
   "execution_count": 2,
   "metadata": {
    "scrolled": true
   },
   "outputs": [
    {
     "name": "stdout",
     "output_type": "stream",
     "text": [
      "(50000, 784)\n",
      "(50000,)\n"
     ]
    }
   ],
   "source": [
    "x, y = mnist.train\n",
    "print(x.shape)\n",
    "print(y.shape)"
   ]
  },
  {
   "cell_type": "markdown",
   "metadata": {},
   "source": [
    "## Adult"
   ]
  },
  {
   "cell_type": "code",
   "execution_count": 3,
   "metadata": {},
   "outputs": [
    {
     "name": "stdout",
     "output_type": "stream",
     "text": [
      "32563\n"
     ]
    }
   ],
   "source": [
    "print(len(adult.train))"
   ]
  },
  {
   "cell_type": "code",
   "execution_count": 4,
   "metadata": {},
   "outputs": [
    {
     "data": {
      "text/plain": [
       "['39',\n",
       " 'State-gov',\n",
       " '77516',\n",
       " 'Bachelors',\n",
       " '13',\n",
       " 'Never-married',\n",
       " 'Adm-clerical',\n",
       " 'Not-in-family',\n",
       " 'White',\n",
       " 'Male',\n",
       " '2174',\n",
       " '0',\n",
       " '40',\n",
       " 'United-States',\n",
       " '<=50K']"
      ]
     },
     "execution_count": 4,
     "metadata": {},
     "output_type": "execute_result"
    }
   ],
   "source": [
    "adult.train[0]"
   ]
  },
  {
   "cell_type": "markdown",
   "metadata": {},
   "source": [
    "## NCEI"
   ]
  },
  {
   "cell_type": "code",
   "execution_count": 5,
   "metadata": {},
   "outputs": [
    {
     "name": "stdout",
     "output_type": "stream",
     "text": [
      "Station: ['72572024127', '91182022521']\n"
     ]
    }
   ],
   "source": [
    "stations = ncei.get_stations()\n",
    "print('Station: {}'.format(stations))"
   ]
  },
  {
   "cell_type": "code",
   "execution_count": 6,
   "metadata": {},
   "outputs": [
    {
     "name": "stdout",
     "output_type": "stream",
     "text": [
      "Tables name\n",
      "CIG_CAVOK\n",
      "CIG_Height_Determination\n",
      "Meteo\n",
      "Quality\n",
      "Station\n",
      "VIS_Variability\n",
      "Wind_Type\n"
     ]
    }
   ],
   "source": [
    "print('Tables name')\n",
    "for name in ncei.get_tables_name(): print(name)"
   ]
  },
  {
   "cell_type": "code",
   "execution_count": 7,
   "metadata": {},
   "outputs": [
    {
     "name": "stdout",
     "output_type": "stream",
     "text": [
      "Quality table\n",
      "(1, '0', 'Passed gross limits check')\n",
      "(2, '1', 'Passed all quality control checks')\n",
      "(3, '2', 'Suspect')\n",
      "(4, '3', 'Erroneous')\n",
      "(5, '4', 'Passed gross limits check, data originate from an NCEI data source')\n",
      "(6, '5', 'Passed all quality control checks, data originate from an NCEI data source')\n",
      "(7, '6', 'Suspect, data originate from an NCEI data source')\n",
      "(8, '7', 'Erroneous, data originate from an NCEI data source')\n",
      "(9, '9', 'Passed gross limits check if element is present')\n",
      "(10, 'A', 'Unknown')\n",
      "(11, 'I', 'Unknown')\n",
      "(12, 'P', 'Unknown')\n",
      "(13, 'U', 'Unknown')\n"
     ]
    }
   ],
   "source": [
    "print('Quality table')\n",
    "for row in ncei.get_table('Quality'): print(row)"
   ]
  },
  {
   "cell_type": "code",
   "execution_count": 8,
   "metadata": {},
   "outputs": [
    {
     "data": {
      "text/plain": [
       "array([[datetime.datetime(1948, 9, 8, 7, 0), 158, 119],\n",
       "       [datetime.datetime(2010, 4, 9, 0, 0), 350, 161]], dtype=object)"
      ]
     },
     "execution_count": 8,
     "metadata": {},
     "output_type": "execute_result"
    }
   ],
   "source": [
    "#Get meteo example\n",
    "stations = '72572024127' #station name, list of station's name or : (for all)\n",
    "datetimes = [datetime(2010,4,9), datetime(1948,9,8,7)] #datetime, list of datetime, slice, : (for all) or empty\n",
    "columns = ['hour','wnd_dir','tmp'] #column name, list of columns, : (for all) or empty\n",
    "\n",
    "ncei[stations, datetimes, columns]"
   ]
  },
  {
   "cell_type": "code",
   "execution_count": 9,
   "metadata": {},
   "outputs": [
    {
     "data": {
      "text/plain": [
       "array([[57],\n",
       "       [57],\n",
       "       [57],\n",
       "       ..., \n",
       "       [31],\n",
       "       [26],\n",
       "       [21]])"
      ]
     },
     "execution_count": 9,
     "metadata": {},
     "output_type": "execute_result"
    }
   ],
   "source": [
    "dt1 = datetime(2017,1,1)\n",
    "dt2 = datetime(2018,1,1)\n",
    "ncei[:, dt1:dt2, 'wnd_speed']"
   ]
  },
  {
   "cell_type": "code",
   "execution_count": null,
   "metadata": {},
   "outputs": [],
   "source": []
  }
 ],
 "metadata": {
  "kernelspec": {
   "display_name": "Python 3",
   "language": "python",
   "name": "python3"
  },
  "language_info": {
   "codemirror_mode": {
    "name": "ipython",
    "version": 3
   },
   "file_extension": ".py",
   "mimetype": "text/x-python",
   "name": "python",
   "nbconvert_exporter": "python",
   "pygments_lexer": "ipython3",
   "version": "3.6.3"
  }
 },
 "nbformat": 4,
 "nbformat_minor": 2
}
